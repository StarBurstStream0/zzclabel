{
 "cells": [
  {
   "cell_type": "markdown",
   "metadata": {},
   "source": [
    "# For coco format to voc format transport"
   ]
  },
  {
   "cell_type": "code",
   "execution_count": 1,
   "metadata": {},
   "outputs": [
    {
     "name": "stdout",
     "output_type": "stream",
     "text": [
      "/***                                  \n",
      " *             ,%%%%%%%%,             \n",
      " *           ,%%/\\%%%%/\\%%            \n",
      " *          ,%%%\\c \"\" J/%%%           \n",
      " * %.       %%%%/ o  o \\%%%           \n",
      " * `%%.     %%%%    _  |%%%           \n",
      " *  `%%     `%%%%(__Y__)%%%           \n",
      " *  //       ;%%%%`\\-/%%%%            \n",
      " * ((       /  `%%%%%%%%              \n",
      " *  \\    ./          |               \n",
      " *   \\  /       \\  | |               \n",
      " *    \\/         ) | |               \n",
      " *     \\         /_ | |__             \n",
      " *     (___________))))))) ZZC GO!~   \n"
     ]
    }
   ],
   "source": [
    "from read_file import *\n",
    "from write_file import *"
   ]
  },
  {
   "cell_type": "code",
   "execution_count": 2,
   "metadata": {},
   "outputs": [],
   "source": [
    "json_path = '/home/zzc/All/datasets/flight&ship/ship/train/rbboxes_train.json'\n",
    "save_path = '/home/zzc/All/datasets/flight&ship/ship/train/xmls'"
   ]
  },
  {
   "cell_type": "code",
   "execution_count": 3,
   "metadata": {},
   "outputs": [
    {
     "name": "stdout",
     "output_type": "stream",
     "text": [
      "\u001b[0;32m[INFO]    [Tue May  4 10:57:44 2021] [zzc]: \u001b[0;37m Start to load the json annotations...\n",
      "\u001b[5;31m[ERROR]   [Tue May  4 10:57:44 2021] [zzc]: \u001b[0;37m Input file must exist! hahaha\n",
      "\u001b[0;33m[WARNING] [Tue May  4 10:57:45 2021] [zzc]: \u001b[0;37m Finish loading the json annotations, but get no result...\n",
      "\u001b[0;32m[INFO]    [Tue May  4 10:57:45 2021] [zzc]: \u001b[0;37m Start to load the json annotations...\n",
      "\u001b[5;31m[ERROR]   [Tue May  4 10:57:45 2021] [zzc]: \u001b[0;37m Input file must exist! hahaha.json\n",
      "\u001b[0;33m[WARNING] [Tue May  4 10:57:46 2021] [zzc]: \u001b[0;37m Finish loading the json annotations, but get no result...\n"
     ]
    }
   ],
   "source": [
    "obj_dict = read_json('hahaha')\n",
    "obj_dict = read_json('hahaha.json')"
   ]
  },
  {
   "cell_type": "code",
   "execution_count": 4,
   "metadata": {},
   "outputs": [
    {
     "name": "stdout",
     "output_type": "stream",
     "text": [
      "\u001b[0;32m[INFO]    [Tue May  4 10:57:47 2021] [zzc]: \u001b[0;37m Start to load the json annotations...\n"
     ]
    },
    {
     "name": "stderr",
     "output_type": "stream",
     "text": [
      "100%|██████████| 2916/2916 [00:02<00:00, 1397.79it/s]\n"
     ]
    },
    {
     "name": "stdout",
     "output_type": "stream",
     "text": [
      "\u001b[0;32m[INFO]    [Tue May  4 10:57:50 2021] [zzc]: \u001b[0;37m class_map:  {1: 'ship'}\n",
      "\u001b[0;32m[INFO]    [Tue May  4 10:57:50 2021] [zzc]: \u001b[0;37m Finish loading the json annotations...\n"
     ]
    }
   ],
   "source": [
    "obj_dict = read_json(json_path)"
   ]
  },
  {
   "cell_type": "code",
   "execution_count": 5,
   "metadata": {},
   "outputs": [
    {
     "name": "stdout",
     "output_type": "stream",
     "text": [
      "OrderedDict([('object', [OrderedDict([('name', 'ship'), ('pose', None), ('truncated', '0'), ('difficult', '0'), ('bndbox', OrderedDict([('xmin', 354), ('ymin', 244), ('xmax', 512), ('ymax', 454)])), ('segmentation', [[512, 301, 383, 454, 354, 430, 512, 244]])])]), ('image', OrderedDict([('filename', '000688.jpg'), ('size', OrderedDict([('width', 512), ('height', 512), ('depth', '3')]))]))])\n"
     ]
    }
   ],
   "source": [
    "for i, obj in enumerate(obj_dict):\n",
    "    print(obj)\n",
    "    break"
   ]
  },
  {
   "cell_type": "code",
   "execution_count": 6,
   "metadata": {},
   "outputs": [
    {
     "name": "stdout",
     "output_type": "stream",
     "text": [
      "\u001b[0;32m[INFO]    [Tue May  4 10:57:52 2021] [zzc]: \u001b[0;37m Start to save parsed labels into voc format...\n"
     ]
    },
    {
     "name": "stderr",
     "output_type": "stream",
     "text": [
      "100%|██████████| 2916/2916 [00:00<00:00, 3584.06it/s]\n"
     ]
    },
    {
     "name": "stdout",
     "output_type": "stream",
     "text": [
      "\u001b[0;32m[INFO]    [Tue May  4 10:57:54 2021] [zzc]: \u001b[0;37m Finish saving all 2916 instances!\n"
     ]
    }
   ],
   "source": [
    "if not os.path.exists(save_path):\n",
    "    os.mkdir(save_path)\n",
    "ret = write_xml(obj_dict, save_path)"
   ]
  },
  {
   "cell_type": "markdown",
   "metadata": {},
   "source": [
    "# For labelme format to json format transport"
   ]
  },
  {
   "cell_type": "code",
   "execution_count": 1,
   "metadata": {},
   "outputs": [
    {
     "name": "stdout",
     "output_type": "stream",
     "text": [
      "/***                                  \n",
      " *             ,%%%%%%%%,             \n",
      " *           ,%%/\\%%%%/\\%%            \n",
      " *          ,%%%\\c \"\" J/%%%           \n",
      " * %.       %%%%/ o  o \\%%%           \n",
      " * `%%.     %%%%    _  |%%%           \n",
      " *  `%%     `%%%%(__Y__)%%%           \n",
      " *  //       ;%%%%`\\-/%%%%            \n",
      " * ((       /  `%%%%%%%%              \n",
      " *  \\    ./          |               \n",
      " *   \\  /       \\  | |               \n",
      " *    \\/         ) | |               \n",
      " *     \\         /_ | |__             \n",
      " *     (___________))))))) ZZC GO!~   \n"
     ]
    }
   ],
   "source": [
    "from read_file import *\n",
    "from write_file import *"
   ]
  },
  {
   "cell_type": "code",
   "execution_count": 2,
   "metadata": {},
   "outputs": [],
   "source": [
    "labelme_path = '/home/zzc/All/playground/20210422_zzclabel/labelme_format/labels'\n",
    "save_path = '/home/zzc/All/playground/20210422_zzclabel/test.json'"
   ]
  },
  {
   "cell_type": "code",
   "execution_count": 3,
   "metadata": {},
   "outputs": [
    {
     "name": "stdout",
     "output_type": "stream",
     "text": [
      "\u001b[0;32m[INFO]    [Tue May  4 11:02:12 2021] [zzc]: \u001b[0;37m Start to load the json annotations...\n"
     ]
    },
    {
     "name": "stderr",
     "output_type": "stream",
     "text": [
      "100%|██████████| 1/1 [00:00<00:00, 1515.28it/s]\n"
     ]
    },
    {
     "name": "stdout",
     "output_type": "stream",
     "text": [
      "\u001b[0;32m[INFO]    [Tue May  4 11:02:13 2021] [zzc]: \u001b[0;37m Finish loading the json annotations...\n"
     ]
    }
   ],
   "source": [
    "obj_dict = read_json(labelme_path, 'labelme')"
   ]
  },
  {
   "cell_type": "code",
   "execution_count": 4,
   "metadata": {},
   "outputs": [
    {
     "name": "stdout",
     "output_type": "stream",
     "text": [
      "OrderedDict([('object', [OrderedDict([('name', 'wing'), ('pose', None), ('truncated', '0'), ('difficult', '0'), ('bndbox', OrderedDict([('xmin', 870), ('ymin', 897), ('xmax', 899), ('ymax', 909)])), ('segmentation', [[897, 898, 890, 899, 882, 898, 870, 897, 870, 899, 893, 907, 899, 909]])]), OrderedDict([('name', 'wing'), ('pose', None), ('truncated', '0'), ('difficult', '0'), ('bndbox', OrderedDict([('xmin', 906), ('ymin', 885), ('xmax', 932), ('ymax', 907)])), ('segmentation', [[906, 897, 908, 907, 920, 898, 932, 890, 932, 885, 924, 890, 916, 894]])]), OrderedDict([('name', 'body'), ('pose', None), ('truncated', '0'), ('difficult', '0'), ('bndbox', OrderedDict([('xmin', 896), ('ymin', 876), ('xmax', 909), ('ymax', 930)])), ('segmentation', [[907, 930, 909, 921, 907, 909, 905, 897, 903, 882, 901, 876, 896, 876, 896, 883, 899, 899, 901, 910, 903, 923]])]), OrderedDict([('name', 'tail'), ('pose', None), ('truncated', '0'), ('difficult', '0'), ('bndbox', OrderedDict([('xmin', 886), ('ymin', 866), ('xmax', 909), ('ymax', 876)])), ('segmentation', [[895, 876, 886, 872, 886, 870, 895, 870, 895, 867, 898, 867, 899, 869, 908, 866, 909, 867, 902, 875]])]), OrderedDict([('name', 'engine'), ('pose', None), ('truncated', '0'), ('difficult', '0'), ('bndbox', OrderedDict([('xmin', 890), ('ymin', 908), ('xmax', 895), ('ymax', 914)])), ('segmentation', [[890, 908, 890, 912, 892, 914, 893, 914, 895, 912, 894, 909]])]), OrderedDict([('name', 'engine'), ('pose', None), ('truncated', '0'), ('difficult', '0'), ('bndbox', OrderedDict([('xmin', 912), ('ymin', 904), ('xmax', 915), ('ymax', 910)])), ('segmentation', [[912, 907, 912, 909, 915, 910, 915, 904]])])]), ('image', OrderedDict([('filename', 'P0161__1__0___0.png'), ('size', OrderedDict([('width', 1024), ('height', 1024), ('depth', '3')]))]))])\n"
     ]
    }
   ],
   "source": [
    "for obj in obj_dict:\n",
    "    print(obj)\n",
    "    break"
   ]
  },
  {
   "cell_type": "code",
   "execution_count": 5,
   "metadata": {},
   "outputs": [
    {
     "name": "stdout",
     "output_type": "stream",
     "text": [
      "\u001b[0;32m[INFO]    [Tue May  4 11:02:18 2021] [zzc]: \u001b[0;37m Start to save parsed labels into json format...\n"
     ]
    },
    {
     "name": "stderr",
     "output_type": "stream",
     "text": [
      "100%|██████████| 1/1 [00:00<00:00, 2959.99it/s]\n"
     ]
    },
    {
     "name": "stdout",
     "output_type": "stream",
     "text": [
      "\u001b[0;32m[INFO]    [Tue May  4 11:02:19 2021] [zzc]: \u001b[0;37m Finish saving all 6 instances! 1 images processed!\n"
     ]
    }
   ],
   "source": [
    "write_json(obj_dict, save_path)"
   ]
  },
  {
   "cell_type": "markdown",
   "metadata": {},
   "source": [
    "# For testing vis function"
   ]
  },
  {
   "cell_type": "code",
   "execution_count": 1,
   "metadata": {},
   "outputs": [
    {
     "name": "stdout",
     "output_type": "stream",
     "text": [
      "/***                                  \n",
      " *             ,%%%%%%%%,             \n",
      " *           ,%%/\\%%%%/\\%%            \n",
      " *          ,%%%\\c \"\" J/%%%           \n",
      " * %.       %%%%/ o  o \\%%%           \n",
      " * `%%.     %%%%    _  |%%%           \n",
      " *  `%%     `%%%%(__Y__)%%%           \n",
      " *  //       ;%%%%`\\-/%%%%            \n",
      " * ((       /  `%%%%%%%%              \n",
      " *  \\    ./          |               \n",
      " *   \\  /       \\  | |               \n",
      " *    \\/         ) | |               \n",
      " *     \\         /_ | |__             \n",
      " *     (___________))))))) ZZC GO!~   \n"
     ]
    }
   ],
   "source": [
    "from zzclabel import *"
   ]
  },
  {
   "cell_type": "code",
   "execution_count": 2,
   "metadata": {},
   "outputs": [],
   "source": [
    "labelme_path = '/home/zzc/All/playground/20210422_zzclabel/labelme_format/labels'\n",
    "img_dir = '/home/zzc/All/playground/20210422_zzclabel/labelme_format/images'\n",
    "save_path = '/home/zzc/All/playground/20210422_zzclabel/labelme_format/vis'"
   ]
  },
  {
   "cell_type": "code",
   "execution_count": 3,
   "metadata": {},
   "outputs": [
    {
     "name": "stdout",
     "output_type": "stream",
     "text": [
      "\u001b[0;32m[INFO]    [Fri May  7 17:33:16 2021] [zzc]: \u001b[0;37m Start to load the json annotations...\n"
     ]
    },
    {
     "name": "stderr",
     "output_type": "stream",
     "text": [
      "Loaded annotations: 100%|███████████████████████████████████████████| 1/1 [00:00<00:00, 1410.80it/s]\n"
     ]
    },
    {
     "name": "stdout",
     "output_type": "stream",
     "text": [
      "\u001b[0;32m[INFO]    [Fri May  7 17:33:17 2021] [zzc]: \u001b[0;37m Finish loading the json annotations...\n"
     ]
    }
   ],
   "source": [
    "obj_dict = read_json(labelme_path, 'labelme')"
   ]
  },
  {
   "cell_type": "code",
   "execution_count": 4,
   "metadata": {},
   "outputs": [
    {
     "name": "stdout",
     "output_type": "stream",
     "text": [
      "OrderedDict([('object', [OrderedDict([('name', 'wing'), ('pose', None), ('truncated', '0'), ('difficult', '0'), ('confidence', '1'), ('bndbox', OrderedDict([('xmin', 870), ('ymin', 897), ('xmax', 899), ('ymax', 909)])), ('segmentation', [[897, 898, 890, 899, 882, 898, 870, 897, 870, 899, 893, 907, 899, 909]])]), OrderedDict([('name', 'wing'), ('pose', None), ('truncated', '0'), ('difficult', '0'), ('confidence', '1'), ('bndbox', OrderedDict([('xmin', 906), ('ymin', 885), ('xmax', 932), ('ymax', 907)])), ('segmentation', [[906, 897, 908, 907, 920, 898, 932, 890, 932, 885, 924, 890, 916, 894]])]), OrderedDict([('name', 'body'), ('pose', None), ('truncated', '0'), ('difficult', '0'), ('confidence', '1'), ('bndbox', OrderedDict([('xmin', 896), ('ymin', 876), ('xmax', 909), ('ymax', 930)])), ('segmentation', [[907, 930, 909, 921, 907, 909, 905, 897, 903, 882, 901, 876, 896, 876, 896, 883, 899, 899, 901, 910, 903, 923]])]), OrderedDict([('name', 'tail'), ('pose', None), ('truncated', '0'), ('difficult', '0'), ('confidence', '1'), ('bndbox', OrderedDict([('xmin', 886), ('ymin', 866), ('xmax', 909), ('ymax', 876)])), ('segmentation', [[895, 876, 886, 872, 886, 870, 895, 870, 895, 867, 898, 867, 899, 869, 908, 866, 909, 867, 902, 875]])]), OrderedDict([('name', 'engine'), ('pose', None), ('truncated', '0'), ('difficult', '0'), ('confidence', '1'), ('bndbox', OrderedDict([('xmin', 890), ('ymin', 908), ('xmax', 895), ('ymax', 914)])), ('segmentation', [[890, 908, 890, 912, 892, 914, 893, 914, 895, 912, 894, 909]])]), OrderedDict([('name', 'engine'), ('pose', None), ('truncated', '0'), ('difficult', '0'), ('confidence', '1'), ('bndbox', OrderedDict([('xmin', 912), ('ymin', 904), ('xmax', 915), ('ymax', 910)])), ('segmentation', [[912, 907, 912, 909, 915, 910, 915, 904]])])]), ('image', OrderedDict([('filename', 'P0161__1__0___0.png'), ('size', OrderedDict([('width', 1024), ('height', 1024), ('depth', '3')]))]))])\n"
     ]
    }
   ],
   "source": [
    "for obj in obj_dict:\n",
    "    print(obj)\n",
    "    break"
   ]
  },
  {
   "cell_type": "code",
   "execution_count": 5,
   "metadata": {},
   "outputs": [
    {
     "name": "stdout",
     "output_type": "stream",
     "text": [
      "\u001b[0;32m[INFO]    [Fri May  7 17:33:19 2021] [zzc]: \u001b[0;37m Start to visualize images with anns...\n",
      "\u001b[0;32m[INFO]    [Fri May  7 17:33:19 2021] [zzc]: \u001b[0;37m Successfully created color map...\n"
     ]
    },
    {
     "name": "stderr",
     "output_type": "stream",
     "text": [
      "Visualized images: 100%|██████████████████████████████████████████████| 1/1 [00:00<00:00, 17.30it/s]\n"
     ]
    },
    {
     "name": "stdout",
     "output_type": "stream",
     "text": [
      "\u001b[0;32m[INFO]    [Fri May  7 17:33:21 2021] [zzc]: \u001b[0;37m Finish all images visualization!\n"
     ]
    }
   ],
   "source": [
    "vis_labels(obj_dict, img_dir, save_path)"
   ]
  },
  {
   "cell_type": "markdown",
   "metadata": {},
   "source": [
    "# For oi_map test"
   ]
  },
  {
   "cell_type": "code",
   "execution_count": 1,
   "metadata": {},
   "outputs": [
    {
     "name": "stdout",
     "output_type": "stream",
     "text": [
      "/***                                  \n",
      " *             ,%%%%%%%%,             \n",
      " *           ,%%/\\%%%%/\\%%            \n",
      " *          ,%%%\\c \"\" J/%%%           \n",
      " * %.       %%%%/ o  o \\%%%           \n",
      " * `%%.     %%%%    _  |%%%           \n",
      " *  `%%     `%%%%(__Y__)%%%           \n",
      " *  //       ;%%%%`\\-/%%%%            \n",
      " * ((       /  `%%%%%%%%              \n",
      " *  \\    ./          |               \n",
      " *   \\  /       \\  | |               \n",
      " *    \\/         ) | |               \n",
      " *     \\         /_ | |__             \n",
      " *     (___________))))))) ZZC GO!~   \n"
     ]
    }
   ],
   "source": [
    "from zzclabel import *\n",
    "from zzclog import *\n",
    "log = ZZCLOG(3)\n",
    "\n",
    "def obj_img_map(obj_dict):\n",
    "    oi_map = {}\n",
    "    img_name = ''\n",
    "    for i, obj in enumerate(obj_dict):\n",
    "        if img_name != obj['image']['filename'].split('/')[-1]:\n",
    "            img_name = obj['image']['filename'].split('/')[-1]\n",
    "            oi_map[img_name] = [i]\n",
    "        else:\n",
    "            oi_map[img_name].append(i)\n",
    "    return oi_map"
   ]
  },
  {
   "cell_type": "code",
   "execution_count": 2,
   "metadata": {},
   "outputs": [],
   "source": [
    "json_path = '/home/zzc/All/datasets/flight&ship/ship/train/rbboxes_train.json'"
   ]
  },
  {
   "cell_type": "code",
   "execution_count": 3,
   "metadata": {},
   "outputs": [
    {
     "name": "stdout",
     "output_type": "stream",
     "text": [
      "class_map:  {1: 'ship'}\n"
     ]
    }
   ],
   "source": [
    "obj_dict = read_json(json_path)"
   ]
  },
  {
   "cell_type": "code",
   "execution_count": 4,
   "metadata": {},
   "outputs": [],
   "source": [
    "oi_map = obj_img_map(obj_dict)"
   ]
  },
  {
   "cell_type": "code",
   "execution_count": 9,
   "metadata": {},
   "outputs": [
    {
     "name": "stdout",
     "output_type": "stream",
     "text": [
      "\u001b[0;32m[INFO]    [Mon Apr 26 11:24:28 2021] [zzc]: \u001b[0;37m 002526.jpg\n",
      "\u001b[0;32m[INFO]    [Mon Apr 26 11:24:28 2021] [zzc]: \u001b[0;37m OrderedDict([('object', OrderedDict([('name', 'ship'), ('pose', None), ('truncated', '0'), ('difficult', '0'), ('bndbox', OrderedDict([('xmin', 332), ('ymin', -28), ('xmax', 514), ('ymax', 46)])), ('segmentation', [[341, 46, 332, 8, 505, -28, 514, 9]])])), ('image', OrderedDict([('filename', '002526.jpg'), ('size', OrderedDict([('width', 512), ('height', 512), ('depth', '3')]))]))])\n",
      "\u001b[0;32m[INFO]    [Mon Apr 26 11:24:28 2021] [zzc]: \u001b[0;37m OrderedDict([('object', OrderedDict([('name', 'ship'), ('pose', None), ('truncated', '0'), ('difficult', '0'), ('bndbox', OrderedDict([('xmin', 213), ('ymin', 28), ('xmax', 310), ('ymax', 74)])), ('segmentation', [[310, 50, 219, 74, 213, 52, 304, 28]])])), ('image', OrderedDict([('filename', '002526.jpg'), ('size', OrderedDict([('width', 512), ('height', 512), ('depth', '3')]))]))])\n",
      "\u001b[0;32m[INFO]    [Mon Apr 26 11:24:28 2021] [zzc]: \u001b[0;37m OrderedDict([('object', OrderedDict([('name', 'ship'), ('pose', None), ('truncated', '0'), ('difficult', '0'), ('bndbox', OrderedDict([('xmin', 120), ('ymin', 45), ('xmax', 197), ('ymax', 82)])), ('segmentation', [[197, 62, 124, 82, 120, 66, 192, 45]])])), ('image', OrderedDict([('filename', '002526.jpg'), ('size', OrderedDict([('width', 512), ('height', 512), ('depth', '3')]))]))])\n",
      "\u001b[0;32m[INFO]    [Mon Apr 26 11:24:28 2021] [zzc]: \u001b[0;37m OrderedDict([('object', OrderedDict([('name', 'ship'), ('pose', None), ('truncated', '0'), ('difficult', '0'), ('bndbox', OrderedDict([('xmin', 123), ('ymin', 61), ('xmax', 199), ('ymax', 93)])), ('segmentation', [[199, 75, 126, 93, 123, 80, 195, 61]])])), ('image', OrderedDict([('filename', '002526.jpg'), ('size', OrderedDict([('width', 512), ('height', 512), ('depth', '3')]))]))])\n",
      "\u001b[0;32m[INFO]    [Mon Apr 26 11:24:28 2021] [zzc]: \u001b[0;37m OrderedDict([('object', OrderedDict([('name', 'ship'), ('pose', None), ('truncated', '0'), ('difficult', '0'), ('bndbox', OrderedDict([('xmin', 0), ('ymin', 54), ('xmax', 123), ('ymax', 118)])), ('segmentation', [[123, 89, 0, 118, 0, 80, 115, 54]])])), ('image', OrderedDict([('filename', '002526.jpg'), ('size', OrderedDict([('width', 512), ('height', 512), ('depth', '3')]))]))])\n"
     ]
    }
   ],
   "source": [
    "log.info(obj_dict[7]['image']['filename'])\n",
    "for id in oi_map[obj_dict[7]['image']['filename']]:\n",
    "    log.info(obj_dict[id])"
   ]
  },
  {
   "cell_type": "code",
   "execution_count": null,
   "metadata": {},
   "outputs": [],
   "source": []
  }
 ],
 "metadata": {
  "kernelspec": {
   "display_name": "Python 3",
   "language": "python",
   "name": "python3"
  },
  "language_info": {
   "codemirror_mode": {
    "name": "ipython",
    "version": 3
   },
   "file_extension": ".py",
   "mimetype": "text/x-python",
   "name": "python",
   "nbconvert_exporter": "python",
   "pygments_lexer": "ipython3",
   "version": "3.7.4"
  }
 },
 "nbformat": 4,
 "nbformat_minor": 2
}
