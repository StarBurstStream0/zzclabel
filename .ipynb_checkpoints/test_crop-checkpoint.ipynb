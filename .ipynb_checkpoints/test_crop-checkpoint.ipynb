{
 "cells": [
  {
   "cell_type": "code",
   "execution_count": 1,
   "metadata": {},
   "outputs": [
    {
     "name": "stdout",
     "output_type": "stream",
     "text": [
      "/***                                  \n",
      " *             ,%%%%%%%%,             \n",
      " *           ,%%/\\%%%%/\\%%            \n",
      " *          ,%%%\\c \"\" J/%%%           \n",
      " * %.       %%%%/ o  o \\%%%           \n",
      " * `%%.     %%%%    _  |%%%           \n",
      " *  `%%     `%%%%(__Y__)%%%           \n",
      " *  //       ;%%%%`\\-/%%%%            \n",
      " * ((       /  `%%%%%%%%              \n",
      " *  \\    ./          |               \n",
      " *   \\  /       \\  | |               \n",
      " *    \\/         ) | |               \n",
      " *     \\         /_ | |__             \n",
      " *     (___________))))))) ZZC GO!~   \n"
     ]
    }
   ],
   "source": [
    "from read_file import *\n",
    "from crop_file import *\n",
    "from write_file import *\n",
    "from vis_file import *"
   ]
  },
  {
   "cell_type": "code",
   "execution_count": 2,
   "metadata": {},
   "outputs": [],
   "source": [
    "labelme_path = '/home/zzc/All/playground/20210422_zzclabel/labelme_format/labels'\n",
    "image_dir = '/home/zzc/All/playground/20210422_zzclabel/labelme_format/images'\n",
    "vis_dir = '/home/zzc/All/playground/20210422_zzclabel/labelme_format/vis'\n",
    "save_image_dir = '/home/zzc/All/playground/20210422_zzclabel/labelme_format/cropped_images'\n",
    "save_json_path = '/home/zzc/All/playground/20210422_zzclabel/labelme_format/cropped_test.json'"
   ]
  },
  {
   "cell_type": "code",
   "execution_count": 3,
   "metadata": {},
   "outputs": [
    {
     "name": "stdout",
     "output_type": "stream",
     "text": [
      "\u001b[0;32m[INFO]    [Tue May 11 23:59:15 2021] [zzc]: \u001b[0;37m Start to load the json annotations...\n"
     ]
    },
    {
     "name": "stderr",
     "output_type": "stream",
     "text": [
      "Loaded annotations: 100%|████████████████████████████████████████████| 2/2 [00:00<00:00, 595.74it/s]\n"
     ]
    },
    {
     "name": "stdout",
     "output_type": "stream",
     "text": [
      "\u001b[0;32m[INFO]    [Tue May 11 23:59:16 2021] [zzc]: \u001b[0;37m Finish loading the json annotations!\n"
     ]
    }
   ],
   "source": [
    "ann_dict = read_json(labelme_path, 'labelme')"
   ]
  },
  {
   "cell_type": "code",
   "execution_count": 4,
   "metadata": {},
   "outputs": [
    {
     "name": "stdout",
     "output_type": "stream",
     "text": [
      "\u001b[0;32m[INFO]    [Tue May 11 23:59:16 2021] [zzc]: \u001b[0;37m Start to visualize images with anns...\n",
      "\u001b[0;32m[INFO]    [Tue May 11 23:59:16 2021] [zzc]: \u001b[0;37m Successfully created color map...\n"
     ]
    },
    {
     "name": "stderr",
     "output_type": "stream",
     "text": [
      "Visualized images: 100%|██████████████████████████████████████████████| 2/2 [00:00<00:00, 17.74it/s]\n"
     ]
    },
    {
     "name": "stdout",
     "output_type": "stream",
     "text": [
      "\u001b[0;32m[INFO]    [Tue May 11 23:59:17 2021] [zzc]: \u001b[0;37m Finish all images visualization!\n"
     ]
    }
   ],
   "source": [
    "vis_labels(ann_dict, image_dir, vis_dir, type='seg', num=-1, thresh=0.5)"
   ]
  },
  {
   "cell_type": "code",
   "execution_count": 5,
   "metadata": {},
   "outputs": [
    {
     "name": "stdout",
     "output_type": "stream",
     "text": [
      "\u001b[0;33m[WARNING] [Tue May 11 23:59:17 2021] [zzc]: \u001b[0;37m padding: True\n",
      "\u001b[0;32m[INFO]    [Tue May 11 23:59:17 2021] [zzc]: \u001b[0;37m Start to crop images and labels...\n"
     ]
    },
    {
     "name": "stderr",
     "output_type": "stream",
     "text": [
      "Loaded images: 100%|██████████████████████████████████████████████████| 2/2 [00:00<00:00,  5.19it/s]\n"
     ]
    },
    {
     "name": "stdout",
     "output_type": "stream",
     "text": [
      "\u001b[0;32m[INFO]    [Tue May 11 23:59:18 2021] [zzc]: \u001b[0;37m Finish cropping the images and labels!\n"
     ]
    }
   ],
   "source": [
    "test = crop_file(ann_dict,\n",
    "                  image_dir,\n",
    "                  save_image_dir,\n",
    "                  gap=256,\n",
    "                  subsize=512,\n",
    "                  num_process=16)\n",
    "test.crop_data(1)"
   ]
  },
  {
   "cell_type": "code",
   "execution_count": 6,
   "metadata": {},
   "outputs": [
    {
     "name": "stdout",
     "output_type": "stream",
     "text": [
      "\u001b[0;32m[INFO]    [Tue May 11 23:59:18 2021] [zzc]: \u001b[0;37m Start to save parsed labels into json format...\n"
     ]
    },
    {
     "name": "stderr",
     "output_type": "stream",
     "text": [
      "Transfered annotations: 100%|████████████████████████████████████| 18/18 [00:00<00:00, 28630.06it/s]\n"
     ]
    },
    {
     "name": "stdout",
     "output_type": "stream",
     "text": [
      "\u001b[0;32m[INFO]    [Tue May 11 23:59:19 2021] [zzc]: \u001b[0;37m Finish saving all 198 instances! 18 images processed!\n"
     ]
    }
   ],
   "source": [
    "write_json(test.cropped_ann_dict, save_json_path, format='COCO')"
   ]
  },
  {
   "cell_type": "markdown",
   "metadata": {},
   "source": [
    "# Check cropped results..."
   ]
  },
  {
   "cell_type": "code",
   "execution_count": 7,
   "metadata": {},
   "outputs": [],
   "source": [
    "json_path = '/home/zzc/All/playground/20210422_zzclabel/labelme_format/cropped_test.json'\n",
    "image_dir = '/home/zzc/All/playground/20210422_zzclabel/labelme_format/cropped_images'\n",
    "vis_dir = '/home/zzc/All/playground/20210422_zzclabel/labelme_format/cropped_vis'"
   ]
  },
  {
   "cell_type": "code",
   "execution_count": 8,
   "metadata": {},
   "outputs": [
    {
     "name": "stdout",
     "output_type": "stream",
     "text": [
      "\u001b[0;32m[INFO]    [Tue May 11 23:59:19 2021] [zzc]: \u001b[0;37m Start to load the json annotations...\n"
     ]
    },
    {
     "name": "stderr",
     "output_type": "stream",
     "text": [
      "Loaded annotations: 100%|█████████████████████████████████████████| 18/18 [00:00<00:00, 4362.50it/s]\n"
     ]
    },
    {
     "name": "stdout",
     "output_type": "stream",
     "text": [
      "\u001b[0;32m[INFO]    [Tue May 11 23:59:20 2021] [zzc]: \u001b[0;37m class_map:  {1: 'body', 2: 'engine', 3: 'wing', 4: 'tail'}\n",
      "\u001b[0;32m[INFO]    [Tue May 11 23:59:20 2021] [zzc]: \u001b[0;37m Finish loading the json annotations!\n",
      "\u001b[0;32m[INFO]    [Tue May 11 23:59:20 2021] [zzc]: \u001b[0;37m Start to visualize images with anns...\n",
      "\u001b[0;32m[INFO]    [Tue May 11 23:59:20 2021] [zzc]: \u001b[0;37m Successfully created color map...\n"
     ]
    },
    {
     "name": "stderr",
     "output_type": "stream",
     "text": [
      "Visualized images: 100%|████████████████████████████████████████████| 18/18 [00:00<00:00, 71.10it/s]\n"
     ]
    },
    {
     "name": "stdout",
     "output_type": "stream",
     "text": [
      "\u001b[0;32m[INFO]    [Tue May 11 23:59:21 2021] [zzc]: \u001b[0;37m Finish all images visualization!\n"
     ]
    }
   ],
   "source": [
    "ann_dict = read_json(json_path, 'COCO')\n",
    "vis_labels(ann_dict, image_dir, vis_dir, type='seg', num=-1, thresh=0.5)"
   ]
  },
  {
   "cell_type": "code",
   "execution_count": null,
   "metadata": {},
   "outputs": [],
   "source": []
  }
 ],
 "metadata": {
  "kernelspec": {
   "display_name": "Python 3",
   "language": "python",
   "name": "python3"
  },
  "language_info": {
   "codemirror_mode": {
    "name": "ipython",
    "version": 3
   },
   "file_extension": ".py",
   "mimetype": "text/x-python",
   "name": "python",
   "nbconvert_exporter": "python",
   "pygments_lexer": "ipython3",
   "version": "3.7.4"
  }
 },
 "nbformat": 4,
 "nbformat_minor": 2
}
