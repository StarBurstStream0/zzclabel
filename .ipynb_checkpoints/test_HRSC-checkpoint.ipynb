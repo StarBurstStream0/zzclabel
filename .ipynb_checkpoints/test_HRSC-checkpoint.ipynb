{
 "cells": [
  {
   "cell_type": "code",
   "execution_count": 1,
   "metadata": {},
   "outputs": [
    {
     "name": "stdout",
     "output_type": "stream",
     "text": [
      "/***                                  \n",
      " *             ,%%%%%%%%,             \n",
      " *           ,%%/\\%%%%/\\%%            \n",
      " *          ,%%%\\c \"\" J/%%%           \n",
      " * %.       %%%%/ o  o \\%%%           \n",
      " * `%%.     %%%%    _  |%%%           \n",
      " *  `%%     `%%%%(__Y__)%%%           \n",
      " *  //       ;%%%%`\\-/%%%%            \n",
      " * ((       /  `%%%%%%%%              \n",
      " *  \\    ./          |               \n",
      " *   \\  /       \\  | |               \n",
      " *    \\/         ) | |               \n",
      " *     \\         /_ | |__             \n",
      " *     (___________))))))) ZZC GO!~   \n"
     ]
    }
   ],
   "source": [
    "from read_file import *\n",
    "from vis_file import *\n",
    "from write_file import *"
   ]
  },
  {
   "cell_type": "code",
   "execution_count": 2,
   "metadata": {},
   "outputs": [],
   "source": [
    "xml_dir = '/home/zzc/All/playground/20210422_zzclabel/HRSC_format/labels/'\n",
    "img_dir = '/home/zzc/All/playground/20210422_zzclabel/HRSC_format/images/'\n",
    "vis_dir = '/home/zzc/All/playground/20210422_zzclabel/HRSC_format/vis/'\n",
    "save_dir = '/home/zzc/All/playground/20210422_zzclabel/HRSC_format/HRSC'"
   ]
  },
  {
   "cell_type": "code",
   "execution_count": 3,
   "metadata": {},
   "outputs": [
    {
     "name": "stdout",
     "output_type": "stream",
     "text": [
      "\u001b[0;32m[INFO]    [Tue May  4 11:14:17 2021] [zzc]: \u001b[0;37m Start to load the xml annotations...\n"
     ]
    },
    {
     "name": "stderr",
     "output_type": "stream",
     "text": [
      "100%|██████████| 3/3 [00:00<00:00, 2632.96it/s]\n"
     ]
    },
    {
     "name": "stdout",
     "output_type": "stream",
     "text": [
      "\u001b[5;31m[ERROR]   [Tue May  4 11:14:17 2021] [zzc]: \u001b[0;37m Input file must be a xml format! .ipynb_checkpoints\n",
      "\u001b[0;32m[INFO]    [Tue May  4 11:14:18 2021] [zzc]: \u001b[0;37m Finish loading the xml annotations...\n"
     ]
    }
   ],
   "source": [
    "ann_dict = read_xml(xml_dir, 'HRSC')"
   ]
  },
  {
   "cell_type": "code",
   "execution_count": 4,
   "metadata": {},
   "outputs": [
    {
     "data": {
      "text/plain": [
       "[OrderedDict([('object',\n",
       "               [OrderedDict([('name', '100000013'),\n",
       "                             ('pose', None),\n",
       "                             ('truncated', '0'),\n",
       "                             ('difficult', '0'),\n",
       "                             ('bndbox',\n",
       "                              OrderedDict([('xmin', 194),\n",
       "                                           ('ymin', 243),\n",
       "                                           ('xmax', 972),\n",
       "                                           ('ymax', 507)])),\n",
       "                             ('segmentation',\n",
       "                              [[944, 185, 981, 355, 221, 520, 184, 351]])])]),\n",
       "              ('image',\n",
       "               OrderedDict([('filename', '100000001.bmp'),\n",
       "                            ('size',\n",
       "                             OrderedDict([('width', '1166'),\n",
       "                                          ('height', '753'),\n",
       "                                          ('depth', '3')]))]))]),\n",
       " OrderedDict([('object',\n",
       "               [OrderedDict([('name', '100000006'),\n",
       "                             ('pose', None),\n",
       "                             ('truncated', '0'),\n",
       "                             ('difficult', '0'),\n",
       "                             ('bndbox',\n",
       "                              OrderedDict([('xmin', 201),\n",
       "                                           ('ymin', 194),\n",
       "                                           ('xmax', 875),\n",
       "                                           ('ymax', 436)])),\n",
       "                             ('segmentation',\n",
       "                              [[895, 295, 855, 468, 181, 313, 220, 140]])]),\n",
       "                OrderedDict([('name', '100000006'),\n",
       "                             ('pose', None),\n",
       "                             ('truncated', '0'),\n",
       "                             ('difficult', '0'),\n",
       "                             ('bndbox',\n",
       "                              OrderedDict([('xmin', 154),\n",
       "                                           ('ymin', 386),\n",
       "                                           ('xmax', 836),\n",
       "                                           ('ymax', 627)])),\n",
       "                             ('segmentation',\n",
       "                              [[846, 496, 801, 679, 129, 515, 174, 331]])])]),\n",
       "              ('image',\n",
       "               OrderedDict([('filename', '100000715.bmp'),\n",
       "                            ('size',\n",
       "                             OrderedDict([('width', '1161'),\n",
       "                                          ('height', '810'),\n",
       "                                          ('depth', '3')]))]))])]"
      ]
     },
     "execution_count": 4,
     "metadata": {},
     "output_type": "execute_result"
    }
   ],
   "source": [
    "ann_dict"
   ]
  },
  {
   "cell_type": "code",
   "execution_count": 5,
   "metadata": {},
   "outputs": [
    {
     "name": "stdout",
     "output_type": "stream",
     "text": [
      "\u001b[0;32m[INFO]    [Tue May  4 11:14:19 2021] [zzc]: \u001b[0;37m Start to visualize images with anns...\n",
      "\u001b[0;36m[DEBUG]   [Tue May  4 11:14:19 2021] [zzc]: \u001b[0;37m color_map:  {'100000006': (255, 0, 0), '100000013': (0, 255, 0)}\n",
      "\u001b[0;32m[INFO]    [Tue May  4 11:14:19 2021] [zzc]: \u001b[0;37m Successfully created colo_map...\n"
     ]
    },
    {
     "name": "stderr",
     "output_type": "stream",
     "text": [
      "100%|██████████| 2/2 [00:00<00:00, 231.25it/s]\n"
     ]
    },
    {
     "name": "stdout",
     "output_type": "stream",
     "text": [
      "\u001b[0;36m[DEBUG]   [Tue May  4 11:14:20 2021] [zzc]: \u001b[0;37m Saving images...\n",
      "\u001b[0;36m[DEBUG]   [Tue May  4 11:14:20 2021] [zzc]: \u001b[0;37m Saving images...\n",
      "\u001b[0;32m[INFO]    [Tue May  4 11:14:20 2021] [zzc]: \u001b[0;37m Finish all images visualization!\n"
     ]
    }
   ],
   "source": [
    "vis_labels(ann_dict, img_dir, vis_dir)"
   ]
  },
  {
   "cell_type": "code",
   "execution_count": 6,
   "metadata": {},
   "outputs": [
    {
     "name": "stdout",
     "output_type": "stream",
     "text": [
      "\u001b[0;32m[INFO]    [Tue May  4 11:14:38 2021] [zzc]: \u001b[0;37m Start to save parsed labels into HRSC format...\n"
     ]
    },
    {
     "name": "stderr",
     "output_type": "stream",
     "text": [
      "100%|██████████| 2/2 [00:00<00:00, 92.98it/s]\n"
     ]
    },
    {
     "name": "stdout",
     "output_type": "stream",
     "text": [
      "\u001b[0;32m[INFO]    [Tue May  4 11:14:39 2021] [zzc]: \u001b[0;37m Finish saving images txt!\n",
      "\u001b[0;32m[INFO]    [Tue May  4 11:14:39 2021] [zzc]: \u001b[0;37m Finish saving all 2 images!\n"
     ]
    },
    {
     "data": {
      "text/plain": [
       "1"
      ]
     },
     "execution_count": 6,
     "metadata": {},
     "output_type": "execute_result"
    }
   ],
   "source": [
    "write_xml(ann_dict, save_dir, 'HRSC')"
   ]
  },
  {
   "cell_type": "markdown",
   "metadata": {},
   "source": [
    "# Test converted HRSC vis"
   ]
  },
  {
   "cell_type": "code",
   "execution_count": null,
   "metadata": {},
   "outputs": [],
   "source": [
    "xml_dir = '/home/zzc/All/playground/20210422_zzclabel/HRSC_format/HRSC/'\n",
    "img_dir = '/home/zzc/All/playground/20210422_zzclabel/HRSC_format/images/'\n",
    "vis_dir = '/home/zzc/All/playground/20210422_zzclabel/HRSC_format/vis/'"
   ]
  },
  {
   "cell_type": "code",
   "execution_count": null,
   "metadata": {},
   "outputs": [],
   "source": [
    "obj_dict = read_xml(xml_dir, 'HRSC')"
   ]
  },
  {
   "cell_type": "code",
   "execution_count": null,
   "metadata": {},
   "outputs": [],
   "source": [
    "obj_dict"
   ]
  },
  {
   "cell_type": "code",
   "execution_count": null,
   "metadata": {},
   "outputs": [],
   "source": [
    "vis_labels(obj_dict, img_dir, vis_dir)"
   ]
  },
  {
   "cell_type": "markdown",
   "metadata": {},
   "source": [
    "# Test crop HRSC2016"
   ]
  },
  {
   "cell_type": "code",
   "execution_count": 1,
   "metadata": {},
   "outputs": [
    {
     "name": "stdout",
     "output_type": "stream",
     "text": [
      "/***                                  \n",
      " *             ,%%%%%%%%,             \n",
      " *           ,%%/\\%%%%/\\%%            \n",
      " *          ,%%%\\c \"\" J/%%%           \n",
      " * %.       %%%%/ o  o \\%%%           \n",
      " * `%%.     %%%%    _  |%%%           \n",
      " *  `%%     `%%%%(__Y__)%%%           \n",
      " *  //       ;%%%%`\\-/%%%%            \n",
      " * ((       /  `%%%%%%%%              \n",
      " *  \\    ./          |               \n",
      " *   \\  /       \\  | |               \n",
      " *    \\/         ) | |               \n",
      " *     \\         /_ | |__             \n",
      " *     (___________))))))) ZZC GO!~   \n"
     ]
    }
   ],
   "source": [
    "from read_file import *\n",
    "from vis_file import *\n",
    "from write_file import *\n",
    "import cv2\n",
    "from  matplotlib import pyplot as plt\n",
    "%matplotlib inline"
   ]
  },
  {
   "cell_type": "code",
   "execution_count": 2,
   "metadata": {},
   "outputs": [],
   "source": [
    "def rotate(image, angle, center=None, scale=1.0): #1\n",
    "    (h, w) = image.shape[:2] #2\n",
    "    if center is None: #3\n",
    "        center = (w // 2, h // 2) #4\n",
    "\n",
    "    M = cv2.getRotationMatrix2D(center, angle, scale) #5\n",
    "\n",
    "    rotated = cv2.warpAffine(image, M, (w, h)) #6\n",
    "    return rotated #7"
   ]
  },
  {
   "cell_type": "code",
   "execution_count": 4,
   "metadata": {},
   "outputs": [
    {
     "data": {
      "text/plain": [
       "[[582.5, 352.75, 778.9175415039062, 174.97988891601562, 6.068880427871839],\n",
       " [582.5, 352.75, 778.9175415039062, 174.97988891601562, 6.068880427871839],\n",
       " [537.75, 304.0, 693.56689453125, 179.38067626953125, 0.22722096741199493],\n",
       " [487.5, 505.25, 692.960205078125, 190.6614532470703, 0.2411176860332489]]"
      ]
     },
     "execution_count": 4,
     "metadata": {},
     "output_type": "execute_result"
    }
   ],
   "source": [
    "obbs"
   ]
  },
  {
   "cell_type": "code",
   "execution_count": null,
   "metadata": {},
   "outputs": [],
   "source": [
    "xml_dir = '/home/zzc/All/playground/20210422_zzclabel/HRSC_format/HRSC/'\n",
    "img_dir = '/home/zzc/All/playground/20210422_zzclabel/HRSC_format/images/'\n",
    "obbs = []\n",
    "for xml_name in os.listdir(xml_dir):\n",
    "    if xml_name[-3:] != 'xml':\n",
    "        continue\n",
    "    xml_path = os.path.join(xml_dir, xml_name)\n",
    "    with open(xml_path, 'r', encoding='utf-8') as f:\n",
    "        xml_dict = xmltodict.parse(f.read()) \n",
    "    if not isinstance(xml_dict['HRSC_Image']['HRSC_Objects']['HRSC_Object'], list):\n",
    "        print('comes 1...')\n",
    "        HRSC_obj = xml_dict['HRSC_Image']['HRSC_Objects']['HRSC_Object']\n",
    "        # log.debug('HRSC_obj: ', HRSC_obj)\n",
    "        xmin, xmax, ymin, ymax = int(HRSC_obj['box_xmin']), int(HRSC_obj['box_xmax']),\\\n",
    "            int(HRSC_obj['box_ymin']), int(HRSC_obj['box_ymax'])\n",
    "        label = HRSC_obj['Class_ID']\n",
    "        if xmax <= xmin:\n",
    "            pass\n",
    "        elif ymax <= ymin:\n",
    "            pass\n",
    "        else:\n",
    "\n",
    "            cx, cy, w, h, a = float(HRSC_obj['mbox_cx']), float(HRSC_obj['mbox_cy']),\\\n",
    "                float(HRSC_obj['mbox_w']), float(HRSC_obj['mbox_h']), float(HRSC_obj['mbox_ang'])\n",
    "            obb = [cx, cy, w, h, a]\n",
    "            print('obb: ', obb)\n",
    "            obbs.append(obb)\n",
    "            image_path = os.path.join(img_dir, xml_name.replace('xml', 'bmp'))\n",
    "            image = cv2.imread(image_path)\n",
    "            H, W = image.shape[:2]\n",
    "            print('image: ', image.shape)\n",
    "            plt.imshow(image)\n",
    "            plt.show()\n",
    "            rotated = rotate(image, a * 180/np.pi, center=(cx, cy))\n",
    "            print('rotated: ', rotated.shape)\n",
    "            plt.imshow(rotated[int(cy-h/2):int(cy+h/2), int(cx-w/2):int(cx+w/2)])\n",
    "            plt.show()\n",
    "    else:\n",
    "        for HRSC_obj in xml_dict['HRSC_Image']['HRSC_Objects']['HRSC_Object']:\n",
    "            print('comes 2...')\n",
    "            xmin, xmax, ymin, ymax = int(HRSC_obj['box_xmin']), int(HRSC_obj['box_xmax']),\\\n",
    "                int(HRSC_obj['box_ymin']), int(HRSC_obj['box_ymax'])\n",
    "            label = HRSC_obj['Class_ID']\n",
    "            if xmax <= xmin:\n",
    "                pass\n",
    "            elif ymax <= ymin:\n",
    "                pass\n",
    "            else:\n",
    "\n",
    "                cx, cy, w, h, a = float(HRSC_obj['mbox_cx']), float(HRSC_obj['mbox_cy']),\\\n",
    "                    float(HRSC_obj['mbox_w']), float(HRSC_obj['mbox_h']), float(HRSC_obj['mbox_ang'])\n",
    "                obb = [cx, cy, w, h, a]\n",
    "                print('obb: ', obb)\n",
    "                obbs.append(obb)\n",
    "                image_path = os.path.join(img_dir, xml_name.replace('xml', 'bmp'))\n",
    "                image = cv2.imread(image_path)\n",
    "                H, W = image.shape[:2]\n",
    "                print('image: ', image.shape)\n",
    "                plt.imshow(image)\n",
    "                plt.show()\n",
    "                rotated = rotate(image, a * 180/np.pi, center=(cx, cy))\n",
    "                print('rotated: ', rotated.shape)\n",
    "                plt.imshow(rotated[int(cy-h/2):int(cy+h/2), int(cx-w/2):int(cx+w/2)])\n",
    "                plt.show()"
   ]
  },
  {
   "cell_type": "code",
   "execution_count": null,
   "metadata": {},
   "outputs": [],
   "source": [
    "# padding images\n",
    "constant=cv.copyMakeBorder(img,top_size,bottom_size,left_size,right_size,cv.BORDER_CONSTANT,value=(0,255,0))"
   ]
  }
 ],
 "metadata": {
  "kernelspec": {
   "display_name": "Python 3",
   "language": "python",
   "name": "python3"
  },
  "language_info": {
   "codemirror_mode": {
    "name": "ipython",
    "version": 3
   },
   "file_extension": ".py",
   "mimetype": "text/x-python",
   "name": "python",
   "nbconvert_exporter": "python",
   "pygments_lexer": "ipython3",
   "version": "3.7.4"
  }
 },
 "nbformat": 4,
 "nbformat_minor": 2
}
