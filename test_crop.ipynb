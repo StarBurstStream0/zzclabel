{
 "cells": [
  {
   "cell_type": "code",
   "execution_count": 1,
   "metadata": {},
   "outputs": [
    {
     "name": "stdout",
     "output_type": "stream",
     "text": [
      "/***                                  \n",
      " *             ,%%%%%%%%,             \n",
      " *           ,%%/\\%%%%/\\%%            \n",
      " *          ,%%%\\c \"\" J/%%%           \n",
      " * %.       %%%%/ o  o \\%%%           \n",
      " * `%%.     %%%%    _  |%%%           \n",
      " *  `%%     `%%%%(__Y__)%%%           \n",
      " *  //       ;%%%%`\\-/%%%%            \n",
      " * ((       /  `%%%%%%%%              \n",
      " *  \\    ./          |               \n",
      " *   \\  /       \\  | |               \n",
      " *    \\/         ) | |               \n",
      " *     \\         /_ | |__             \n",
      " *     (___________))))))) ZZC GO!~   \n"
     ]
    }
   ],
   "source": [
    "from read_file import *\n",
    "from crop_file import *\n",
    "from write_file import *\n",
    "from vis_file import *"
   ]
  },
  {
   "cell_type": "code",
   "execution_count": 2,
   "metadata": {},
   "outputs": [],
   "source": [
    "labelme_path = '/home/zzc/All/playground/20210422_zzclabel/labelme_format/labels'\n",
    "image_dir = '/home/zzc/All/playground/20210422_zzclabel/labelme_format/images'\n",
    "vis_dir = '/home/zzc/All/playground/20210422_zzclabel/labelme_format/vis'\n",
    "save_image_dir = '/home/zzc/All/playground/20210422_zzclabel/labelme_format/cropped_images'\n",
    "save_json_path = '/home/zzc/All/playground/20210422_zzclabel/labelme_format/cropped_test.json'"
   ]
  },
  {
   "cell_type": "code",
   "execution_count": 3,
   "metadata": {},
   "outputs": [
    {
     "name": "stdout",
     "output_type": "stream",
     "text": [
      "\u001b[0;32m[INFO]    [Sat May 29 20:04:27 2021] [zzc]: \u001b[0;37m Start to load the json annotations...\n"
     ]
    },
    {
     "name": "stderr",
     "output_type": "stream",
     "text": [
      "Loaded annotations: 100%|████████████████████████████████████████████| 2/2 [00:00<00:00, 119.58it/s]\n"
     ]
    },
    {
     "name": "stdout",
     "output_type": "stream",
     "text": [
      "\u001b[0;32m[INFO]    [Sat May 29 20:04:28 2021] [zzc]: \u001b[0;37m Finish loading the json annotations!\n"
     ]
    }
   ],
   "source": [
    "ann_dict = read_json(labelme_path, 'labelme')"
   ]
  },
  {
   "cell_type": "code",
   "execution_count": 4,
   "metadata": {},
   "outputs": [
    {
     "name": "stdout",
     "output_type": "stream",
     "text": [
      "\u001b[0;32m[INFO]    [Sat May 29 20:04:28 2021] [zzc]: \u001b[0;37m Start to visualize images with anns...\n",
      "\u001b[0;32m[INFO]    [Sat May 29 20:04:28 2021] [zzc]: \u001b[0;37m Successfully created color map...\n"
     ]
    },
    {
     "name": "stderr",
     "output_type": "stream",
     "text": [
      "Visualized images: 100%|██████████████████████████████████████████████| 2/2 [00:00<00:00, 16.81it/s]\n"
     ]
    },
    {
     "name": "stdout",
     "output_type": "stream",
     "text": [
      "\u001b[0;32m[INFO]    [Sat May 29 20:04:29 2021] [zzc]: \u001b[0;37m Finish all images visualization!\n"
     ]
    }
   ],
   "source": [
    "vis_labels(ann_dict, image_dir, vis_dir, type='seg', num=-1, thresh=0.5)"
   ]
  },
  {
   "cell_type": "code",
   "execution_count": 5,
   "metadata": {},
   "outputs": [
    {
     "name": "stdout",
     "output_type": "stream",
     "text": [
      "\u001b[0;33m[WARNING] [Sat May 29 20:04:31 2021] [zzc]: \u001b[0;37m padding: True\n",
      "\u001b[0;32m[INFO]    [Sat May 29 20:04:31 2021] [zzc]: \u001b[0;37m Start to crop images and labels...\n"
     ]
    },
    {
     "name": "stderr",
     "output_type": "stream",
     "text": [
      "Loaded images: 100%|██████████████████████████████████████████████████| 2/2 [00:00<00:00,  4.47it/s]\n"
     ]
    },
    {
     "name": "stdout",
     "output_type": "stream",
     "text": [
      "\u001b[0;32m[INFO]    [Sat May 29 20:04:32 2021] [zzc]: \u001b[0;37m Finish cropping the images and labels!\n"
     ]
    }
   ],
   "source": [
    "test = crop_file(ann_dict,\n",
    "                  image_dir,\n",
    "                  save_image_dir,\n",
    "                  gap=256,\n",
    "                  subsize=512,\n",
    "                  num_process=16)\n",
    "test.crop_data(0.8)"
   ]
  },
  {
   "cell_type": "code",
   "execution_count": 6,
   "metadata": {},
   "outputs": [
    {
     "name": "stdout",
     "output_type": "stream",
     "text": [
      "\u001b[0;32m[INFO]    [Sat May 29 20:04:37 2021] [zzc]: \u001b[0;37m Start to save parsed labels into json format...\n"
     ]
    },
    {
     "name": "stderr",
     "output_type": "stream",
     "text": [
      "Transfered annotations: 100%|█████████████████████████████████████| 18/18 [00:00<00:00, 4140.93it/s]\n"
     ]
    },
    {
     "name": "stdout",
     "output_type": "stream",
     "text": [
      "\u001b[0;32m[INFO]    [Sat May 29 20:04:38 2021] [zzc]: \u001b[0;37m Finish saving all 336 instances! 18 images processed!\n"
     ]
    }
   ],
   "source": [
    "write_json(test.cropped_ann_dict, save_json_path, format='COCO')"
   ]
  },
  {
   "cell_type": "markdown",
   "metadata": {},
   "source": [
    "# Check cropped results..."
   ]
  },
  {
   "cell_type": "code",
   "execution_count": 7,
   "metadata": {},
   "outputs": [],
   "source": [
    "json_path = '/home/zzc/All/playground/20210422_zzclabel/labelme_format/cropped_test.json'\n",
    "image_dir = '/home/zzc/All/playground/20210422_zzclabel/labelme_format/cropped_images'\n",
    "vis_dir = '/home/zzc/All/playground/20210422_zzclabel/labelme_format/cropped_vis'"
   ]
  },
  {
   "cell_type": "code",
   "execution_count": 8,
   "metadata": {},
   "outputs": [
    {
     "name": "stdout",
     "output_type": "stream",
     "text": [
      "\u001b[0;32m[INFO]    [Sat May 29 20:04:41 2021] [zzc]: \u001b[0;37m Start to load the json annotations...\n"
     ]
    },
    {
     "name": "stderr",
     "output_type": "stream",
     "text": [
      "Loaded annotations: 100%|█████████████████████████████████████████| 18/18 [00:00<00:00, 2509.14it/s]\n"
     ]
    },
    {
     "name": "stdout",
     "output_type": "stream",
     "text": [
      "\u001b[0;32m[INFO]    [Sat May 29 20:04:42 2021] [zzc]: \u001b[0;37m class_map:  {1: 'body', 2: 'tail', 3: 'wing', 4: 'engine'}\n",
      "\u001b[0;32m[INFO]    [Sat May 29 20:04:42 2021] [zzc]: \u001b[0;37m Finish loading the json annotations!\n",
      "\u001b[0;32m[INFO]    [Sat May 29 20:04:42 2021] [zzc]: \u001b[0;37m Start to visualize images with anns...\n",
      "\u001b[0;32m[INFO]    [Sat May 29 20:04:42 2021] [zzc]: \u001b[0;37m Created saving dir /home/zzc/All/playground/20210422_zzclabel/labelme_format/cropped_vis...\n",
      "\u001b[0;32m[INFO]    [Sat May 29 20:04:42 2021] [zzc]: \u001b[0;37m Successfully created color map...\n"
     ]
    },
    {
     "name": "stderr",
     "output_type": "stream",
     "text": [
      "Visualized images: 100%|████████████████████████████████████████████| 18/18 [00:00<00:00, 59.26it/s]\n"
     ]
    },
    {
     "name": "stdout",
     "output_type": "stream",
     "text": [
      "\u001b[0;32m[INFO]    [Sat May 29 20:04:43 2021] [zzc]: \u001b[0;37m Finish all images visualization!\n"
     ]
    }
   ],
   "source": [
    "ann_dict = read_json(json_path, 'COCO')\n",
    "vis_labels(ann_dict, image_dir, vis_dir, type='seg', num=-1, thresh=0.5)"
   ]
  },
  {
   "cell_type": "code",
   "execution_count": null,
   "metadata": {},
   "outputs": [],
   "source": []
  }
 ],
 "metadata": {
  "kernelspec": {
   "display_name": "Python 3",
   "language": "python",
   "name": "python3"
  },
  "language_info": {
   "codemirror_mode": {
    "name": "ipython",
    "version": 3
   },
   "file_extension": ".py",
   "mimetype": "text/x-python",
   "name": "python",
   "nbconvert_exporter": "python",
   "pygments_lexer": "ipython3",
   "version": "3.7.4"
  }
 },
 "nbformat": 4,
 "nbformat_minor": 2
}
